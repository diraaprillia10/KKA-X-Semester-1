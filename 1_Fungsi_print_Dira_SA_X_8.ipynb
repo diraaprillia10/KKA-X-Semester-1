{
  "nbformat": 4,
  "nbformat_minor": 0,
  "metadata": {
    "colab": {
      "provenance": [],
      "authorship_tag": "ABX9TyPq565Aysljo1JgoWb8QjYF",
      "include_colab_link": true
    },
    "kernelspec": {
      "name": "python3",
      "display_name": "Python 3"
    },
    "language_info": {
      "name": "python"
    }
  },
  "cells": [
    {
      "cell_type": "markdown",
      "metadata": {
        "id": "view-in-github",
        "colab_type": "text"
      },
      "source": [
        "<a href=\"https://colab.research.google.com/github/diraaprillia10/KKA-X-Semester-1/blob/main/1_Fungsi_print_Dira_SA_X_8.ipynb\" target=\"_parent\"><img src=\"https://colab.research.google.com/assets/colab-badge.svg\" alt=\"Open In Colab\"/></a>"
      ]
    },
    {
      "cell_type": "markdown",
      "source": [
        "Nama: Dira Aprillia Salsabilla\n",
        "\n",
        "Kelas: X.8\n",
        "\n",
        "No absen: 09"
      ],
      "metadata": {
        "id": "vxkYiehfeh5c"
      }
    },
    {
      "cell_type": "markdown",
      "source": [
        "#Menampilkan Teks Bebas"
      ],
      "metadata": {
        "id": "4UZmjpzpfnoC"
      }
    },
    {
      "cell_type": "code",
      "source": [
        "print(\"Helo world\")"
      ],
      "metadata": {
        "colab": {
          "base_uri": "https://localhost:8080/"
        },
        "id": "Xl_yTkg3ehMy",
        "outputId": "f3db13c4-169e-4fa1-afef-43bdcb9ee466"
      },
      "execution_count": null,
      "outputs": [
        {
          "output_type": "stream",
          "name": "stdout",
          "text": [
            "Helo world\n"
          ]
        }
      ]
    },
    {
      "cell_type": "code",
      "source": [
        "print(\"Dira Aprillia Salsabilla\")"
      ],
      "metadata": {
        "colab": {
          "base_uri": "https://localhost:8080/"
        },
        "id": "xIhIpazeh2Cl",
        "outputId": "1cb3a8b2-844f-472e-f3d1-9cc731dcbbe8"
      },
      "execution_count": null,
      "outputs": [
        {
          "output_type": "stream",
          "name": "stdout",
          "text": [
            "Dira Aprillia Salsabilla\n"
          ]
        }
      ]
    },
    {
      "cell_type": "markdown",
      "source": [
        "#menampilkan nilai variabel"
      ],
      "metadata": {
        "id": "gy0xwP34iGBU"
      }
    },
    {
      "cell_type": "code",
      "source": [
        "usia = 15\n",
        "\n",
        "print(usia)"
      ],
      "metadata": {
        "colab": {
          "base_uri": "https://localhost:8080/"
        },
        "id": "VJqUaCR1iVcL",
        "outputId": "a1885e7b-e885-4bdf-fe6b-ff7348a6fcc7"
      },
      "execution_count": null,
      "outputs": [
        {
          "output_type": "stream",
          "name": "stdout",
          "text": [
            "15\n"
          ]
        }
      ]
    },
    {
      "cell_type": "code",
      "source": [
        "Nama = \"Dira Aprillia Salsabilla\"\n",
        "\n",
        "print(Nama)"
      ],
      "metadata": {
        "colab": {
          "base_uri": "https://localhost:8080/"
        },
        "id": "qf8wJyyOjvj2",
        "outputId": "455fc958-ccfd-45eb-f032-bdb52e6e391d"
      },
      "execution_count": null,
      "outputs": [
        {
          "output_type": "stream",
          "name": "stdout",
          "text": [
            "Dira Aprillia Salsabilla\n"
          ]
        }
      ]
    },
    {
      "cell_type": "code",
      "source": [
        "BB = 62\n",
        "\n",
        "print(BB)"
      ],
      "metadata": {
        "colab": {
          "base_uri": "https://localhost:8080/"
        },
        "id": "LCS7DN_XkDHW",
        "outputId": "73e52417-8136-4d51-f05e-3f9245e0f4e3"
      },
      "execution_count": null,
      "outputs": [
        {
          "output_type": "stream",
          "name": "stdout",
          "text": [
            "62\n"
          ]
        }
      ]
    },
    {
      "cell_type": "markdown",
      "source": [
        "#Menampilkan Teks Bebas dan nilai variabel"
      ],
      "metadata": {
        "id": "PzvCy7WwlKa8"
      }
    },
    {
      "cell_type": "code",
      "source": [
        "print(f\"perkenalkan nama saya {Nama}.\")"
      ],
      "metadata": {
        "colab": {
          "base_uri": "https://localhost:8080/"
        },
        "id": "7k5Q_OtZlaU7",
        "outputId": "7bdacbde-fa3d-419e-c63c-817d7f2cc04f"
      },
      "execution_count": null,
      "outputs": [
        {
          "output_type": "stream",
          "name": "stdout",
          "text": [
            "perkenalkan nama saya Dira Aprillia Salsabilla.\n"
          ]
        }
      ]
    },
    {
      "cell_type": "code",
      "source": [
        "print(f\"Berat badan saya {BB} kg.\")"
      ],
      "metadata": {
        "colab": {
          "base_uri": "https://localhost:8080/"
        },
        "id": "qSXlUiHAm5dV",
        "outputId": "eccdbc04-58df-4457-bc08-77aca917551e"
      },
      "execution_count": null,
      "outputs": [
        {
          "output_type": "stream",
          "name": "stdout",
          "text": [
            "Berat badan saya 62 kg.\n"
          ]
        }
      ]
    },
    {
      "cell_type": "code",
      "source": [
        "print(\"perkenalkan nama saya \" + Nama)"
      ],
      "metadata": {
        "colab": {
          "base_uri": "https://localhost:8080/"
        },
        "id": "xUVT6BMYna_9",
        "outputId": "6651748c-8034-46e2-86b3-ba4d44227e8a"
      },
      "execution_count": null,
      "outputs": [
        {
          "output_type": "stream",
          "name": "stdout",
          "text": [
            "perkenalkan nama saya Dira Aprillia Salsabilla\n"
          ]
        }
      ]
    },
    {
      "cell_type": "code",
      "source": [
        "print(\"Berat badan saya \" + str(BB) + \" kg.\")"
      ],
      "metadata": {
        "colab": {
          "base_uri": "https://localhost:8080/"
        },
        "id": "e4qHKzL2oLzR",
        "outputId": "2948f173-0612-45be-9680-ae392d89e978"
      },
      "execution_count": null,
      "outputs": [
        {
          "output_type": "stream",
          "name": "stdout",
          "text": [
            "Berat badan saya 62 kg.\n"
          ]
        }
      ]
    },
    {
      "cell_type": "markdown",
      "source": [],
      "metadata": {
        "id": "nvGu5bhxhZcc"
      }
    },
    {
      "cell_type": "markdown",
      "source": [
        "#Escape Character"
      ],
      "metadata": {
        "id": "9H33RENxhhdm"
      }
    },
    {
      "cell_type": "code",
      "source": [
        "print(\"Nama: Dira Aprillia Salsabilla\\nKelas: X.8\\nNo.Absen: 9\")"
      ],
      "metadata": {
        "colab": {
          "base_uri": "https://localhost:8080/"
        },
        "id": "0VTjXas8hqar",
        "outputId": "f980dbfb-3022-4f87-c244-7bd2f557e686"
      },
      "execution_count": null,
      "outputs": [
        {
          "output_type": "stream",
          "name": "stdout",
          "text": [
            "Nama: Dira Aprillia Salsabilla\n",
            "Kelas: X.8\n",
            "No.Absen: 9\n"
          ]
        }
      ]
    },
    {
      "cell_type": "code",
      "source": [
        "print(\"\"\"Nama\\t\\t:Dira Aprillia Salsabilla\n",
        "Kelas\\t\\t: X.8\n",
        "No.Absen\\t: 9\"\"\")"
      ],
      "metadata": {
        "colab": {
          "base_uri": "https://localhost:8080/"
        },
        "id": "77wCBDNGlgf4",
        "outputId": "d830cad4-03fb-4a60-a67a-646733b75529"
      },
      "execution_count": null,
      "outputs": [
        {
          "output_type": "stream",
          "name": "stdout",
          "text": [
            "Nama\t\t:Dira Aprillia Salsabilla \n",
            "Kelas\t\t: X.8\n",
            "No.Absen\t: 9\n"
          ]
        }
      ]
    },
    {
      "cell_type": "code",
      "source": [
        "print(\"Nama: Ja'far Shodiq\\nKelas: X.8\\nNo.Absen: 9\")"
      ],
      "metadata": {
        "colab": {
          "base_uri": "https://localhost:8080/"
        },
        "id": "hVjuE7NxmB07",
        "outputId": "711d6c3f-9b29-4d26-f6f2-9c53491d183c"
      },
      "execution_count": null,
      "outputs": [
        {
          "output_type": "stream",
          "name": "stdout",
          "text": [
            "Nama: Ja'far Shodiq\n",
            "Kelas: X.8\n",
            "No.Absen: 9\n"
          ]
        }
      ]
    },
    {
      "cell_type": "code",
      "source": [
        "print('Nama:Ja\\'far Shodiq\\nKelas: X.8\\nNo. Absen: 9')"
      ],
      "metadata": {
        "colab": {
          "base_uri": "https://localhost:8080/"
        },
        "id": "NkuRY-tomr9H",
        "outputId": "11a48e1b-179c-4e72-eb17-b9465353c6cf"
      },
      "execution_count": null,
      "outputs": [
        {
          "output_type": "stream",
          "name": "stdout",
          "text": [
            "Nama:Ja'far Shodiq\n",
            "Kelas: X.8\n",
            "No. Absen: 9\n"
          ]
        }
      ]
    },
    {
      "cell_type": "code",
      "source": [
        "print(\"Lokasi File Tugas KKA:Local Disk C:\\\\KKA\\\\Tugas Dira\")"
      ],
      "metadata": {
        "colab": {
          "base_uri": "https://localhost:8080/"
        },
        "id": "-He-Yq8GnHvN",
        "outputId": "4c2e4aee-368e-48b1-e476-4f917c0e4132"
      },
      "execution_count": null,
      "outputs": [
        {
          "output_type": "stream",
          "name": "stdout",
          "text": [
            "Lokasi File Tugas KKA:Local Disk C:\\KKA\\Tugas Dira\n"
          ]
        }
      ]
    },
    {
      "cell_type": "markdown",
      "source": [
        "#Parameter Fungsi print()"
      ],
      "metadata": {
        "id": "47a90h19qyle"
      }
    },
    {
      "cell_type": "code",
      "source": [
        "Tahun = 2025\n",
        "Bulan = \"Agustus\"\n",
        "Tanggal = 23\n",
        "\n",
        "print(Tahun, Bulan, Tanggal, sep=\"-\")"
      ],
      "metadata": {
        "colab": {
          "base_uri": "https://localhost:8080/"
        },
        "id": "KY0pQgPeq6Vq",
        "outputId": "b467f9f7-51d1-4b0a-db5b-f304ebd1697d"
      },
      "execution_count": null,
      "outputs": [
        {
          "output_type": "stream",
          "name": "stdout",
          "text": [
            "2025-Agustus-23\n"
          ]
        }
      ]
    },
    {
      "cell_type": "code",
      "source": [
        "nama_depan = \"Dira\"\n",
        "nama_belakang = \"Aprillia\"\n",
        "\n",
        "print(nama_depan, end=\"\")\n",
        "print(nama_belakang)"
      ],
      "metadata": {
        "colab": {
          "base_uri": "https://localhost:8080/"
        },
        "id": "-RezIZ7crZJj",
        "outputId": "646173f0-fa8e-4614-c73a-ee6981a8b10d"
      },
      "execution_count": null,
      "outputs": [
        {
          "output_type": "stream",
          "name": "stdout",
          "text": [
            "DiraAprillia\n"
          ]
        }
      ]
    },
    {
      "cell_type": "code",
      "source": [
        "nama_siswa_1 =\"Dinda\"\n",
        "nama_siswa_2 =\"Aurin\"\n",
        "nama_siswa_3 =\"Lisan\"\n",
        "\n",
        "print(nama_siswa_3, nama_siswa_2,nama_siswa_1,nama_siswa_3,sep=\"/\")"
      ],
      "metadata": {
        "colab": {
          "base_uri": "https://localhost:8080/"
        },
        "id": "Z3Y09n7HknOS",
        "outputId": "4130df1f-71c0-430b-d04e-4bdc9641a5f5"
      },
      "execution_count": null,
      "outputs": [
        {
          "output_type": "stream",
          "name": "stdout",
          "text": [
            "Lisan/Aurin/Dinda/Lisan\n"
          ]
        }
      ]
    },
    {
      "cell_type": "code",
      "source": [
        "nama_siswa_4 =\"Azkal\"\n",
        "nama_siswa_5 =\"Hasim\"\n",
        "nama_siswa_6 =\"Chilmi\"\n",
        "nama_siswa_7 =\"Nova\"\n",
        "\n",
        "print(nama_siswa_6, end=\"~\")\n",
        "print(nama_siswa_4)\n",
        "\n",
        "\n",
        "print(nama_siswa_5, end=\"-\")\n",
        "print(nama_siswa_7)\n",
        "\n",
        "print(nama_siswa_4, end=\"/\")\n",
        "print(nama_siswa_7, end=\"&\")\n",
        "print(nama_siswa_5)"
      ],
      "metadata": {
        "colab": {
          "base_uri": "https://localhost:8080/"
        },
        "id": "TQLD262SrxLf",
        "outputId": "61f85ef3-0907-45b5-b76c-99696f42903e"
      },
      "execution_count": null,
      "outputs": [
        {
          "output_type": "stream",
          "name": "stdout",
          "text": [
            "Chilmi~Azkal\n",
            "Hasim-Nova\n",
            "Azkal/Nova&Hasim\n"
          ]
        }
      ]
    },
    {
      "cell_type": "markdown",
      "source": [
        "Nama: Dira Aprillia Salsabilla\n",
        "\n",
        "Kelas: X.8\n",
        "\n",
        "No.Absen: 09"
      ],
      "metadata": {
        "id": "Yj85Y6kYtdqw"
      }
    }
  ]
}